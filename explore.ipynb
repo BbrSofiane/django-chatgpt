{
 "cells": [
  {
   "cell_type": "code",
   "execution_count": 4,
   "metadata": {},
   "outputs": [
    {
     "name": "stdout",
     "output_type": "stream",
     "text": [
      "\n",
      "Using a custom user model in Django has several advantages. It allows you to customize the user model to fit your specific needs, such as adding additional fields or changing the authentication process. It also allows you to use an email address as the primary user identifier instead of a username, which can be more secure. Finally, it allows you to easily migrate to a custom user model mid-project, which can be a difficult process without a custom user model.\n"
     ]
    }
   ],
   "source": [
    "import os\n",
    "\n",
    "from dotenv import load_dotenv\n",
    "from llama_index import GPTVectorStoreIndex, QuestionAnswerPrompt, download_loader\n",
    "\n",
    "\n",
    "load_dotenv()\n",
    "\n",
    "openai_api_key = os.environ.get(\"OPENAI_API_KEY\")\n",
    "\n",
    "SimpleWebPageReader = download_loader(\"SimpleWebPageReader\")\n",
    "\n",
    "loader = SimpleWebPageReader()\n",
    "documents = loader.load_data(\n",
    "    urls=[\"https://testdriven.io/blog/django-custom-user-model/\"]\n",
    ")\n",
    "\n",
    "index = GPTVectorStoreIndex.from_documents(documents)\n",
    "\n",
    "QA_PROMPT_TMPL = (\n",
    "    \"Hello, I have some context information for you:\\n\"\n",
    "    \"---------------------\\n\"\n",
    "    \"{context_str}\"\n",
    "    \"\\n---------------------\\n\"\n",
    "    \"Based on this context, could you please help me understand the answer to this question: {query_str}?\\n\"\n",
    ")\n",
    "QA_PROMPT = QuestionAnswerPrompt(QA_PROMPT_TMPL)\n",
    "\n",
    "query_str = \"What are the advantages of using a custom User model in Django?\"\n",
    "\n",
    "query_engine = index.as_query_engine(text_qa_template=QA_PROMPT)\n",
    "\n",
    "response = query_engine.query(query_str)\n",
    "\n",
    "print(response)"
   ]
  }
 ],
 "metadata": {
  "kernelspec": {
   "display_name": "django-chatgpt-UL5lBtap-py3.11",
   "language": "python",
   "name": "python3"
  },
  "language_info": {
   "codemirror_mode": {
    "name": "ipython",
    "version": 3
   },
   "file_extension": ".py",
   "mimetype": "text/x-python",
   "name": "python",
   "nbconvert_exporter": "python",
   "pygments_lexer": "ipython3",
   "version": "3.11.1"
  },
  "orig_nbformat": 4
 },
 "nbformat": 4,
 "nbformat_minor": 2
}
